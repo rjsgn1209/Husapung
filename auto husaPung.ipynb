{
 "cells": [
  {
   "cell_type": "code",
   "execution_count": 1,
   "id": "762e494f",
   "metadata": {},
   "outputs": [
    {
     "name": "stderr",
     "output_type": "stream",
     "text": [
      "C:\\Users\\박건후\\AppData\\Local\\Temp/ipykernel_15040/1825401611.py:15: DeprecationWarning: find_element_by_* commands are deprecated. Please use find_element() instead\n",
      "  elem = driver.find_element_by_link_text(\"My강의실\").click()   # My강의실 접속\n",
      "C:\\Users\\박건후\\AppData\\Local\\Temp/ipykernel_15040/1825401611.py:18: DeprecationWarning: find_element_by_* commands are deprecated. Please use find_element() instead\n",
      "  elem = driver.find_element_by_id(\"txtPkiUserId\")  # 아이디입력 후 엔터\n",
      "C:\\Users\\박건후\\AppData\\Local\\Temp/ipykernel_15040/1825401611.py:23: DeprecationWarning: find_element_by_* commands are deprecated. Please use find_element() instead\n",
      "  iframe = driver.find_element_by_id('cont')    # iframe 변경후 공인인증서창 접속\n",
      "C:\\Users\\박건후\\AppData\\Local\\Temp/ipykernel_15040/1825401611.py:25: DeprecationWarning: find_element_by_* commands are deprecated. Please use find_element() instead\n",
      "  driver.find_element_by_xpath('//*[@id=\"playerVer1\"]/div[2]/div[2]/a').click()\n",
      "C:\\Users\\박건후\\AppData\\Local\\Temp/ipykernel_15040/1825401611.py:28: DeprecationWarning: find_element_by_* commands are deprecated. Please use find_element() instead\n",
      "  driver.find_element_by_id(\"certPwd\").send_keys(\"Bghjbghj1021@\")    # 비밀번호 입력후 로그인 완료\n",
      "C:\\Users\\박건후\\AppData\\Local\\Temp/ipykernel_15040/1825401611.py:29: DeprecationWarning: find_element_by_* commands are deprecated. Please use find_element() instead\n",
      "  elem = driver.find_element_by_xpath('//*[@id=\"nx-cert-select\"]/div[4]/button[1]').click()\n"
     ]
    }
   ],
   "source": [
    "from selenium import webdriver\n",
    "from selenium.webdriver.common.keys import Keys\n",
    "from selenium.webdriver.support.ui import WebDriverWait\n",
    "from bs4 import BeautifulSoup\n",
    "import time\n",
    "\n",
    "driver = webdriver.Chrome()         # 웹 실행\n",
    "driver.get(\"https://wf.hunet.co.kr/?_emk_keyword=%ED%9C%B4%EC%82%AC%ED%8F%89&utm_source=google&utm_medium=cpc&utm_campaign=brand&utm_content=pc&utm_term=%ED%9C%B4%EC%82%AC%ED%8F%89&gclid=CjwKCAjwwsmLBhACEiwANq-tXKVgctynWpDLO_jdPMS3ohQatjiOGSXvKPhEtGhkbcASxpfLce_aPRoCHPQQAvD_BwE\")\n",
    "time.sleep(1)\n",
    "\n",
    "# driver.switch_to.window(driver.window_handles[-1])   # 판업창 끄기\n",
    "# driver.close()\n",
    "# driver.switch_to.window(driver.window_handles[0])\n",
    "\n",
    "elem = driver.find_element_by_link_text(\"My강의실\").click()   # My강의실 접속\n",
    "time.sleep(1)\n",
    "\n",
    "elem = driver.find_element_by_id(\"txtPkiUserId\")  # 아이디입력 후 엔터\n",
    "elem.send_keys(\"rjsgn1209\")\n",
    "elem.send_keys(Keys.RETURN)\n",
    "time.sleep(1) \n",
    "\n",
    "iframe = driver.find_element_by_id('cont')    # iframe 변경후 공인인증서창 접속\n",
    "driver.switch_to.frame(iframe)\n",
    "driver.find_element_by_xpath('//*[@id=\"playerVer1\"]/div[2]/div[2]/a').click()\n",
    "time.sleep(3)\n",
    "\n",
    "driver.find_element_by_id(\"certPwd\").send_keys(\"Bghjbghj1021@\")    # 비밀번호 입력후 로그인 완료\n",
    "elem = driver.find_element_by_xpath('//*[@id=\"nx-cert-select\"]/div[4]/button[1]').click()\n",
    "time.sleep(2)\n",
    "\n"
   ]
  },
  {
   "cell_type": "code",
   "execution_count": 2,
   "id": "ec211c71",
   "metadata": {},
   "outputs": [],
   "source": [
    "\n",
    "def searching_video():\n",
    "    html = driver.page_source\n",
    "    soup = BeautifulSoup(html, \"html.parser\")\n",
    "    trs = soup.select('#aspnetForm > table > tbody > tr > td > table:nth-child(2) > tbody > tr > td > table > tbody > tr > td > table > tbody > tr > td:nth-child(2) > table > tbody > tr > td:nth-child(2) > table.tbl_pro > tbody > tr')\n",
    "\n",
    "    for tr in trs[1:]:             # 보고자하는 마지막 강의 +1    # 강의 목록중 안본강의 확인후 접속\n",
    "        num = int(tr.select(\"span\")[0].text)\n",
    "        if tr.select(\"img\"):\n",
    "            src = tr.select(\"img\")[0]['src']\n",
    "            if src == \"/images/bank/btn_study.gif\":\n",
    "                time.sleep(2)\n",
    "                driver.switch_to.window(driver.window_handles[-1]) \n",
    "                print(f'{num}번 강의 Playing...', end=\" \")\n",
    "                driver.find_element_by_id(f\"ctl00_ContentPlaceHolder1_rptBankStudyListByWeek_ctl{num-1}_hlStudyNow\").click()\n",
    "                time.sleep(2)\n",
    "                playing_video()\n",
    "                "
   ]
  },
  {
   "cell_type": "code",
   "execution_count": 3,
   "id": "4898483c",
   "metadata": {},
   "outputs": [],
   "source": [
    "def playing_video():\n",
    "    driver.switch_to.window(driver.window_handles[-1])            \n",
    "    iframe = driver.find_element_by_id('frmTop')\n",
    "    driver.switch_to.frame(iframe)\n",
    "\n",
    "    html = driver.page_source\n",
    "    soup = BeautifulSoup(html, \"html.parser\")\n",
    "    \n",
    "    rest_min =  int(soup.select('body > div > ul > li:nth-child(4)')[0].text.split(':')[1].replace(\"분\", \"\"))\n",
    "    rest_sec = (rest_min + 1) * 60\n",
    "\n",
    "    driver.switch_to.window(driver.window_handles[-1])  \n",
    "    iframe = driver.find_element_by_id('frmMain')\n",
    "    driver.switch_to.frame(iframe)\n",
    "    html = driver.page_source\n",
    "    soup = BeautifulSoup(html, \"html.parser\")\n",
    "\n",
    "    i=0\n",
    "    j=0\n",
    "    while True:\n",
    "        driver.find_element_by_link_text(\"Next\").click()\n",
    "        time.sleep(2)\n",
    "        j+=1\n",
    "        try:\n",
    "            alert = driver.switch_to.alert\n",
    "            if alert.text == '퀴즈를 모두 풀어야 다음페이지로 이동할 수 있습니다.':\n",
    "                alert.accept()\n",
    "                time.sleep(1)\n",
    "                if j == 3:\n",
    "                    driver.find_element_by_css_selector('#quizMain > div.content > dl:nth-child(1) > dd.answer > a:nth-child(1)').click()\n",
    "                    driver.find_element_by_css_selector('#quizMain > div.content > dl:nth-child(2) > dd.answer > a:nth-child(1)').click()\n",
    "                    time.sleep(1)\n",
    "                    driver.find_element_by_css_selector('#quizMain > div.footer > a').click()\n",
    "                    time.sleep(1)\n",
    "                    driver.find_element_by_link_text(\"Next\").click()\n",
    "                    time.sleep(2)\n",
    "                elif j > 3:\n",
    "                    driver.find_element_by_css_selector(\"#quizMain > div.content > ul > li:nth-child(4) > a\").click()\n",
    "                    driver.find_element_by_css_selector(\"#quizMain > div.footer > a\").click()\n",
    "                    time.sleep(1)\n",
    "                    if i == 0:  \n",
    "                        driver.find_element_by_link_text(\"다음문제\").click()\n",
    "                        i += 1\n",
    "                        time.sleep(2)\n",
    "\n",
    "                    elif i == 1:\n",
    "                        driver.find_element_by_link_text(\"다음페이지\").click()\n",
    "                        time.sleep(2)\n",
    "                        i += 1\n",
    "            elif alert.text == '마지막 시청하셨던 위치부터 재생하시겠습니까?':\n",
    "                alert.dismiss()\n",
    "                time.sleep(2)\n",
    "                driver.find_element_by_link_text(\"Next\").click()\n",
    "                time.sleep(2)\n",
    "            elif alert.text == '마지막 페이지입니다':\n",
    "                alert.accept()\n",
    "                print(f\"부족한 시간: {rest_min}분...\", end=\" \")\n",
    "                time.sleep(rest_sec)\n",
    "                print(\"End\")\n",
    "                driver.close()\n",
    "                time.sleep(1)\n",
    "                break\n",
    "        except:\n",
    "            time.sleep(2)"
   ]
  },
  {
   "cell_type": "code",
   "execution_count": null,
   "id": "2b061fba",
   "metadata": {},
   "outputs": [
    {
     "name": "stdout",
     "output_type": "stream",
     "text": [
      "Auto Program Start\n"
     ]
    },
    {
     "name": "stderr",
     "output_type": "stream",
     "text": [
      "C:\\Users\\박건후\\AppData\\Local\\Temp/ipykernel_15040/341244209.py:7: DeprecationWarning: find_elements_by_* commands are deprecated. Please use find_elements() instead\n",
      "  elem = driver.find_elements_by_css_selector(\"#content > table:nth-child(8) > tbody > tr > th > button\")\n"
     ]
    },
    {
     "name": "stdout",
     "output_type": "stream",
     "text": [
      "결혼과가족 강의 Click\n"
     ]
    },
    {
     "name": "stderr",
     "output_type": "stream",
     "text": [
      "C:\\Users\\박건후\\AppData\\Local\\Temp/ipykernel_15040/341244209.py:35: DeprecationWarning: find_element_by_* commands are deprecated. Please use find_element() instead\n",
      "  driver.find_element_by_css_selector(\"#goStudy\").click()\n"
     ]
    },
    {
     "name": "stdout",
     "output_type": "stream",
     "text": [
      "24번 강의 Playing... "
     ]
    },
    {
     "name": "stderr",
     "output_type": "stream",
     "text": [
      "C:\\Users\\박건후\\AppData\\Local\\Temp/ipykernel_15040/1981992293.py:14: DeprecationWarning: find_element_by_* commands are deprecated. Please use find_element() instead\n",
      "  driver.find_element_by_id(f\"ctl00_ContentPlaceHolder1_rptBankStudyListByWeek_ctl{num-1}_hlStudyNow\").click()\n",
      "C:\\Users\\박건후\\AppData\\Local\\Temp/ipykernel_15040/282553042.py:3: DeprecationWarning: find_element_by_* commands are deprecated. Please use find_element() instead\n",
      "  iframe = driver.find_element_by_id('frmTop')\n",
      "C:\\Users\\박건후\\AppData\\Local\\Temp/ipykernel_15040/282553042.py:13: DeprecationWarning: find_element_by_* commands are deprecated. Please use find_element() instead\n",
      "  iframe = driver.find_element_by_id('frmMain')\n",
      "C:\\Users\\박건후\\AppData\\Local\\Temp/ipykernel_15040/282553042.py:21: DeprecationWarning: find_element_by_* commands are deprecated. Please use find_element() instead\n",
      "  driver.find_element_by_link_text(\"Next\").click()\n",
      "C:\\Users\\박건후\\AppData\\Local\\Temp/ipykernel_15040/282553042.py:30: DeprecationWarning: find_element_by_* commands are deprecated. Please use find_element() instead\n",
      "  driver.find_element_by_css_selector('#quizMain > div.content > dl:nth-child(1) > dd.answer > a:nth-child(1)').click()\n",
      "C:\\Users\\박건후\\AppData\\Local\\Temp/ipykernel_15040/282553042.py:31: DeprecationWarning: find_element_by_* commands are deprecated. Please use find_element() instead\n",
      "  driver.find_element_by_css_selector('#quizMain > div.content > dl:nth-child(2) > dd.answer > a:nth-child(1)').click()\n",
      "C:\\Users\\박건후\\AppData\\Local\\Temp/ipykernel_15040/282553042.py:33: DeprecationWarning: find_element_by_* commands are deprecated. Please use find_element() instead\n",
      "  driver.find_element_by_css_selector('#quizMain > div.footer > a').click()\n",
      "C:\\Users\\박건후\\AppData\\Local\\Temp/ipykernel_15040/282553042.py:38: DeprecationWarning: find_element_by_* commands are deprecated. Please use find_element() instead\n",
      "  driver.find_element_by_css_selector(\"#quizMain > div.content > ul > li:nth-child(4) > a\").click()\n",
      "C:\\Users\\박건후\\AppData\\Local\\Temp/ipykernel_15040/282553042.py:39: DeprecationWarning: find_element_by_* commands are deprecated. Please use find_element() instead\n",
      "  driver.find_element_by_css_selector(\"#quizMain > div.footer > a\").click()\n",
      "C:\\Users\\박건후\\AppData\\Local\\Temp/ipykernel_15040/282553042.py:42: DeprecationWarning: find_element_by_* commands are deprecated. Please use find_element() instead\n",
      "  driver.find_element_by_link_text(\"다음문제\").click()\n",
      "C:\\Users\\박건후\\AppData\\Local\\Temp/ipykernel_15040/282553042.py:47: DeprecationWarning: find_element_by_* commands are deprecated. Please use find_element() instead\n",
      "  driver.find_element_by_link_text(\"다음페이지\").click()\n"
     ]
    },
    {
     "name": "stdout",
     "output_type": "stream",
     "text": [
      "부족한 시간: 45분... End\n",
      "25번 강의 Playing... 부족한 시간: 42분... End\n",
      "광고학 강의 Click\n",
      "24번 강의 Playing... 부족한 시간: 30분... End\n",
      "25번 강의 Playing... 부족한 시간: 44분... End\n",
      "국제경영 강의 Click\n",
      "22번 강의 Playing... 부족한 시간: 1분... End\n",
      "23번 강의 Playing... 부족한 시간: 32분... End\n",
      "24번 강의 Playing... 부족한 시간: 49분... End\n",
      "25번 강의 Playing... 부족한 시간: 54분... "
     ]
    }
   ],
   "source": [
    "print(\"Auto Program Start\")\n",
    "driver.switch_to.window(driver.window_handles[-1])\n",
    "\n",
    "html = driver.page_source                              # 웹 스크랩핑\n",
    "soup = BeautifulSoup(html, 'html.parser')\n",
    "yn = soup.select('td img')                          # yn스크랩핑 및 강의 접속버튼 대입\n",
    "elem = driver.find_elements_by_css_selector(\"#content > table:nth-child(8) > tbody > tr > th > button\")\n",
    "\n",
    "title = []                   # title 추출\n",
    "names = soup.select(\"#content > table:nth-child(8) > tbody > tr > th > span > a\")\n",
    "for name in names:\n",
    "    title.append(name.text)\n",
    "\n",
    "\n",
    "\n",
    "count = 0\n",
    "li = []\n",
    "values = []\n",
    "for i in yn:                       # Y or N 구분하여 LISt에 나눠담기\n",
    "    li.append(i['alt'])\n",
    "    count += 1\n",
    "    if count == 4:\n",
    "        values.append(li)\n",
    "        li = []\n",
    "        count = 0\n",
    "        \n",
    "for i, value in enumerate(values):      #  나눠담은 LIST에서 N인 값이 있는 강의만 실행\n",
    "    if \"N\" in value:\n",
    "        time.sleep(1)\n",
    "        print(f\"{title[i]} 강의 Click\")\n",
    "        elem[i].click()\n",
    "        time.sleep(3)\n",
    "        driver.switch_to.window(driver.window_handles[-1])     # 최신 window선택 및 학습하기 클릭\n",
    "        time.sleep(1)\n",
    "        driver.find_element_by_css_selector(\"#goStudy\").click()\n",
    "        time.sleep(2)\n",
    "        searching_video()\n",
    "        driver.switch_to.window(driver.window_handles[-1])\n",
    "        time.sleep(1)\n",
    "        driver.close()\n",
    "        driver.switch_to.window(driver.window_handles[-1])\n",
    "        time.sleep(1)\n",
    "print(\"Auto Program End\")"
   ]
  },
  {
   "cell_type": "code",
   "execution_count": null,
   "id": "1297ae22",
   "metadata": {},
   "outputs": [],
   "source": []
  }
 ],
 "metadata": {
  "kernelspec": {
   "display_name": "Python 3 (ipykernel)",
   "language": "python",
   "name": "python3"
  },
  "language_info": {
   "codemirror_mode": {
    "name": "ipython",
    "version": 3
   },
   "file_extension": ".py",
   "mimetype": "text/x-python",
   "name": "python",
   "nbconvert_exporter": "python",
   "pygments_lexer": "ipython3",
   "version": "3.9.7"
  }
 },
 "nbformat": 4,
 "nbformat_minor": 5
}
